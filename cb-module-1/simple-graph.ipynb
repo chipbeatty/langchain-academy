{
 "cells": [
  {
   "cell_type": "code",
   "execution_count": 1,
   "id": "c7f2bdee",
   "metadata": {},
   "outputs": [],
   "source": [
    "from typing import TypedDict, List, Literal\n",
    "from langgraph.graph import StateGraph"
   ]
  },
  {
   "cell_type": "code",
   "execution_count": 3,
   "id": "a764033f",
   "metadata": {},
   "outputs": [],
   "source": [
    "# Define the state structure\n",
    "class TrekState(TypedDict):\n",
    "    question: str  # User's question\n",
    "    answer: str    # Generated answer\n",
    "    evaluation: Literal[\"LOGICAL\", \"EMOTIONAL\"]  # Spock or McCoy?\n",
    "    messages: List[str]  # Chat history (optional)"
   ]
  },
  {
   "cell_type": "code",
   "execution_count": 4,
   "id": "3f932ebd",
   "metadata": {},
   "outputs": [],
   "source": [
    "import os, getpass\n",
    "\n",
    "def _set_env(var: str):\n",
    "    if not os.environ.get(var):\n",
    "        os.environ[var] = getpass.getpass(f\"{var}: \")\n",
    "\n",
    "_set_env(\"OPENAI_API_KEY\")"
   ]
  },
  {
   "cell_type": "code",
   "execution_count": 5,
   "id": "497248b1",
   "metadata": {},
   "outputs": [],
   "source": [
    "from openai import OpenAI\n",
    "\n",
    "client = OpenAI()  # Ensure OPENAI_API_KEY is set"
   ]
  },
  {
   "cell_type": "code",
   "execution_count": 6,
   "id": "93154cfa",
   "metadata": {},
   "outputs": [],
   "source": [
    "# Define the nodes\n",
    "def get_question(state: TrekState):\n",
    "    state[\"question\"] = \"What is the Vulcan philosophy?\"\n",
    "    return state\n",
    "\n",
    "def generate_answer(state: TrekState):\n",
    "    response = client.chat.completions.create(\n",
    "        model=\"gpt-3.5-turbo-0125\",\n",
    "        messages=[{\"role\": \"user\", \"content\": state[\"question\"]}]\n",
    "    )\n",
    "    state[\"answer\"] = response.choices[0].message.content\n",
    "    return state\n",
    "\n",
    "def evaluate_response(state: TrekState):\n",
    "    if \"spock\" in state[\"answer\"].lower() or \"vulcan\" in state[\"answer\"].lower():\n",
    "        state[\"evaluation\"] = \"LOGICAL\"\n",
    "        state[\"answer\"] += \"\\n\\n🖖 Live long and prosper.\"\n",
    "    else:\n",
    "        state[\"evaluation\"] = \"EMOTIONAL\"\n",
    "    return state\n",
    "  "
   ]
  },
  {
   "cell_type": "code",
   "execution_count": 9,
   "id": "833c563b",
   "metadata": {},
   "outputs": [],
   "source": [
    "# Build the Graph\n",
    "workflow = StateGraph(TrekState)\n",
    "\n",
    "# Add nodes\n",
    "workflow.add_node(\"get_question\", get_question)\n",
    "workflow.add_node(\"generate_answer\", generate_answer)\n",
    "workflow.add_node(\"evaluate_response\", evaluate_response)\n",
    "\n",
    "# Define edges\n",
    "workflow.add_edge(\"get_question\", \"generate_answer\")\n",
    "workflow.add_edge(\"generate_answer\", \"evaluate_response\")\n",
    "\n",
    "# Optional: Conditional edge (if we had branching paths)\n",
    "workflow.set_entry_point(\"get_question\")\n",
    "workflow.set_finish_point(\"evaluate_response\")\n",
    "\n",
    "# Compile\n",
    "app = workflow.compile()"
   ]
  },
  {
   "cell_type": "code",
   "execution_count": null,
   "id": "3480e340",
   "metadata": {},
   "outputs": [
    {
     "name": "stdout",
     "output_type": "stream",
     "text": [
      "Final Answer: The Vulcan philosophy is a guiding principle for the fictional Vulcan species in the Star Trek universe. It is based on the teachings of Surak, a revered Vulcan philosopher and founder of the Vulcan way of life. The Vulcan philosophy emphasizes logic, reason, self-control, and the suppression of emotions in order to achieve a harmonious and peaceful society. Vulcans believe in the pursuit of knowledge, the control of one's emotions, and the prioritization of the needs of the many over the needs of the individual.\n",
      "\n",
      "🖖 Live long and prosper.\n",
      "Evaluation: LOGICAL\n"
     ]
    }
   ],
   "source": [
    "# Initialize state\n",
    "initial_state = TrekState(question=\"\", answer=\"\", evaluation=\"\", messages=[])\n",
    "\n",
    "#Execute \n",
    "result = app.invoke(initial_state)\n",
    "print(\"Final Answer:\", result[\"answer\"])\n",
    "print(\"Evaluation:\", result[\"evaluation\"])\n",
    "\n"
   ]
  }
 ],
 "metadata": {
  "kernelspec": {
   "display_name": "langgraph-intro",
   "language": "python",
   "name": "python3"
  },
  "language_info": {
   "codemirror_mode": {
    "name": "ipython",
    "version": 3
   },
   "file_extension": ".py",
   "mimetype": "text/x-python",
   "name": "python",
   "nbconvert_exporter": "python",
   "pygments_lexer": "ipython3",
   "version": "3.12.7"
  }
 },
 "nbformat": 4,
 "nbformat_minor": 5
}
