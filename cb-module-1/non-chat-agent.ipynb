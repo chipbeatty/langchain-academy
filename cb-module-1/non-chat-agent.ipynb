{
 "cells": [
  {
   "cell_type": "code",
   "execution_count": 17,
   "id": "b901a839",
   "metadata": {},
   "outputs": [],
   "source": [
    "from typing import TypedDict, Literal\n",
    "from langgraph.graph import StateGraph\n",
    "\n",
    "class StarshipState(TypedDict):\n",
    "    system: str     # System being checked (e.g., \"warp core\")\n",
    "    status: Literal[\"NOMINAL\", \"WARNING\", \"CRITICAL\"]  # Diagnostic result\n",
    "    alert_message: str  # Generated alert (if any)\n",
    "    logs: list  # Raw diagnostic data"
   ]
  },
  {
   "cell_type": "code",
   "execution_count": 18,
   "id": "c65a273b",
   "metadata": {},
   "outputs": [],
   "source": [
    "# Define the nodes\n",
    "\n",
    "# Fetch System Data (Simulate an API call)\n",
    "def fetch_system_data(state: StarshipState):\n",
    "    # Simulate fetching data from a starship system\n",
    "    state[\"logs\"] = [\n",
    "        {\"component\": \"plasma conduit\", \"reading\": 0.8},\n",
    "        {\"component\": \"coolant\", \"reading\": 0.2}  # Low coolant!\n",
    "    ]\n",
    "    state[\"system\"] = \"warp core\"\n",
    "    return state\n",
    "\n",
    "# Process Data (Check for failures)\n",
    "def process_data(state: StarshipState):\n",
    "    # Check the logs for critical issues\n",
    "    if any(log[\"reading\"] < 0.5 for log in state[\"logs\"]):\n",
    "        state[\"status\"] = \"CRITICAL\"\n",
    "    elif any(log[\"reading\"] < 0.7 for log in state[\"logs\"]):\n",
    "        state[\"status\"] = \"WARNING\"\n",
    "    else:\n",
    "        state[\"status\"] = \"NOMINAL\"\n",
    "    return state\n",
    "\n",
    "# Trigger Alert (Conditional edge: Only if critical)\n",
    "def trigger_alert(state: StarshipState):\n",
    "    if state[\"status\"] == \"CRITICAL\":\n",
    "        state[\"alert_message\"] = f\"Alert! {state['system']} is in critical condition!\"\n",
    "    else:\n",
    "        state[\"alert_message\"] = \"No critical issues detected.\"\n",
    "    return state"
   ]
  },
  {
   "cell_type": "code",
   "execution_count": 23,
   "id": "ecae0f4d",
   "metadata": {},
   "outputs": [],
   "source": [
    "# Build the Graph\n",
    "\n",
    "workflow = StateGraph(StarshipState)\n",
    "\n",
    "# Add nodes\n",
    "workflow.add_node(\"fetch\", fetch_system_data)\n",
    "workflow.add_node(\"process\", process_data)\n",
    "workflow.add_node(\"alert\", trigger_alert)\n",
    "\n",
    "# Configure workflow\n",
    "workflow.set_entry_point(\"fetch\")\n",
    "workflow.add_edge(\"fetch\", \"process\")\n",
    "\n",
    "# Modern conditional edge (None terminates)\n",
    "workflow.add_conditional_edges(\n",
    "    \"process\",\n",
    "    lambda state: \"alert\" if state[\"status\"] == \"CRITICAL\" else None\n",
    ")\n",
    "\n",
    "workflow.set_finish_point(\"alert\")  # Terminate after alert node\n",
    "\n",
    "# Compile and run\n",
    "app = workflow.compile()\n",
    "\n",
    "# Compile\n",
    "app = workflow.compile()"
   ]
  },
  {
   "cell_type": "code",
   "execution_count": 24,
   "id": "209836a8",
   "metadata": {},
   "outputs": [
    {
     "name": "stdout",
     "output_type": "stream",
     "text": [
      "Final State: {'system': 'warp core', 'status': 'CRITICAL', 'alert_message': 'Alert! warp core is in critical condition!', 'logs': [{'component': 'plasma conduit', 'reading': 0.8}, {'component': 'coolant', 'reading': 0.2}]}\n"
     ]
    }
   ],
   "source": [
    "# Test\n",
    "initial_state = StarshipState(\n",
    "    system=\"\",\n",
    "    status=\"NOMINAL\",\n",
    "    alert_message=\"\",\n",
    "    logs=[]\n",
    ")\n",
    "result = app.invoke(initial_state)\n",
    "print(\"Final State:\", result)"
   ]
  }
 ],
 "metadata": {
  "kernelspec": {
   "display_name": "langgraph-intro",
   "language": "python",
   "name": "python3"
  },
  "language_info": {
   "codemirror_mode": {
    "name": "ipython",
    "version": 3
   },
   "file_extension": ".py",
   "mimetype": "text/x-python",
   "name": "python",
   "nbconvert_exporter": "python",
   "pygments_lexer": "ipython3",
   "version": "3.12.7"
  }
 },
 "nbformat": 4,
 "nbformat_minor": 5
}
