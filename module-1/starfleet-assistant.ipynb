{
 "cells": [
  {
   "cell_type": "markdown",
   "id": "dc0b1f0e",
   "metadata": {},
   "source": [
    "Step 1: Set Up Basic Imports and LLM"
   ]
  },
  {
   "cell_type": "code",
   "execution_count": 1,
   "id": "e02bccb6",
   "metadata": {},
   "outputs": [],
   "source": [
    "# Required imports\n",
    "from langchain_openai import ChatOpenAI  # or whatever model you use\n",
    "from langchain_core.messages import HumanMessage, AIMessage\n",
    "from langgraph.graph import StateGraph, START, END\n",
    "from langgraph.graph.message import add_messages\n",
    "from typing_extensions import TypedDict\n",
    "from typing import Annotated\n"
   ]
  },
  {
   "cell_type": "code",
   "execution_count": null,
   "id": "ab78d19c",
   "metadata": {},
   "outputs": [],
   "source": [
    "# Set up a model:\n",
    "llm = ChatOpenAI(model=\"gpt-3.5-turbo-0125\", temperature=0.3)\n"
   ]
  },
  {
   "cell_type": "markdown",
   "id": "8398483e",
   "metadata": {},
   "source": [
    "Step 2: Define a Simple Tool — stardate_converter"
   ]
  },
  {
   "cell_type": "code",
   "execution_count": 3,
   "id": "f292fdab",
   "metadata": {},
   "outputs": [],
   "source": [
    "from datetime import datetime\n",
    "\n",
    "from datetime import datetime\n",
    "\n",
    "def stardate_converter(earth_date: str) -> str:\n",
    "    \"\"\"Convert an Earth date to a fictional stardate.\"\"\"\n",
    "    base = datetime(2323, 1, 1)  # arbitrary base date for stardates\n",
    "    dt = datetime.strptime(earth_date, \"%Y-%m-%d\")\n",
    "    days = (dt - base).days\n",
    "    stardate = 1000 + days * 0.036  # fake formula\n",
    "    return f\"Stardate {stardate:.2f}\"\n"
   ]
  },
  {
   "cell_type": "markdown",
   "id": "44624db1",
   "metadata": {},
   "source": [
    "Step 3: Bind the Tool to the Model"
   ]
  },
  {
   "cell_type": "code",
   "execution_count": 7,
   "id": "fd18ec8a",
   "metadata": {},
   "outputs": [],
   "source": [
    "llm_with_tools = llm.bind_tools([stardate_converter])\n",
    "\n",
    "# Now the model can call stardate_converter() when it thinks it should!"
   ]
  },
  {
   "cell_type": "markdown",
   "id": "fb73877a",
   "metadata": {},
   "source": [
    "Step 4: Define the State"
   ]
  },
  {
   "cell_type": "code",
   "execution_count": 9,
   "id": "20ead2b1",
   "metadata": {},
   "outputs": [],
   "source": [
    "from langchain_core.messages import AnyMessage\n",
    "\n",
    "class MessageState(TypedDict):\n",
    "    messages: Annotated[list[AnyMessage], add_messages]\n",
    "\n",
    "# This allows us to track all messages, and add_messages automatically merges the new ones."
   ]
  },
  {
   "cell_type": "markdown",
   "id": "648271a1",
   "metadata": {},
   "source": [
    "Step 5: Define the Node"
   ]
  },
  {
   "cell_type": "code",
   "execution_count": 10,
   "id": "1aad591c",
   "metadata": {},
   "outputs": [],
   "source": [
    "def starfleet_node(state: MessageState):\n",
    "    response = llm_with_tools.invoke(state[\"messages\"])\n",
    "    return {\"messages\": [response]}\n",
    "\n",
    "# This node:\n",
    "\n",
    "# Passes the full chat history to the LLM\n",
    "\n",
    "# Returns its reply\n",
    "\n",
    "# Lets LangGraph merge it into the message history"
   ]
  },
  {
   "cell_type": "markdown",
   "id": "1f5aa4be",
   "metadata": {},
   "source": [
    "Step 6: Build the Graph"
   ]
  },
  {
   "cell_type": "code",
   "execution_count": 13,
   "id": "7e85aee2",
   "metadata": {},
   "outputs": [],
   "source": [
    "builder = StateGraph(MessageState)\n",
    "builder.add_node(\"starfleet_node\", starfleet_node)\n",
    "builder.add_edge(START, \"starfleet_node\")\n",
    "builder.add_edge(\"starfleet_node\", END)\n",
    "\n",
    "graph = builder.compile()"
   ]
  },
  {
   "cell_type": "markdown",
   "id": "2fc0e645",
   "metadata": {},
   "source": [
    "Step 7: Run It"
   ]
  },
  {
   "cell_type": "code",
   "execution_count": 14,
   "id": "928a5822",
   "metadata": {},
   "outputs": [
    {
     "name": "stdout",
     "output_type": "stream",
     "text": [
      "================================\u001b[1m Human Message \u001b[0m=================================\n",
      "Name: Captain\n",
      "\n",
      "Convert 2025-07-04 to a stardate.\n",
      "==================================\u001b[1m Ai Message \u001b[0m==================================\n",
      "Tool Calls:\n",
      "  stardate_converter (call_jlbUTCucC2XEm3W2eFpxf7Rd)\n",
      " Call ID: call_jlbUTCucC2XEm3W2eFpxf7Rd\n",
      "  Args:\n",
      "    earth_date: 2025-07-04\n"
     ]
    }
   ],
   "source": [
    "initial_state = {\n",
    "    \"messages\": [\n",
    "        HumanMessage(content=\"Convert 2025-07-04 to a stardate.\", name=\"Captain\")\n",
    "    ]\n",
    "}\n",
    "\n",
    "final_state = graph.invoke(initial_state)\n",
    "\n",
    "for m in final_state[\"messages\"]:\n",
    "    m.pretty_print()\n"
   ]
  }
 ],
 "metadata": {
  "kernelspec": {
   "display_name": "langgraph-intro",
   "language": "python",
   "name": "python3"
  },
  "language_info": {
   "codemirror_mode": {
    "name": "ipython",
    "version": 3
   },
   "file_extension": ".py",
   "mimetype": "text/x-python",
   "name": "python",
   "nbconvert_exporter": "python",
   "pygments_lexer": "ipython3",
   "version": "3.12.7"
  }
 },
 "nbformat": 4,
 "nbformat_minor": 5
}
