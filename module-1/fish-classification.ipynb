{
 "cells": [
  {
   "cell_type": "code",
   "execution_count": 2,
   "id": "a9a414b3",
   "metadata": {},
   "outputs": [
    {
     "name": "stdout",
     "output_type": "stream",
     "text": [
      "{'description': 'A long, silver fish with an extended jaw and sharp teeth.', 'classification': 'Based on your description of a long, silver fish with an extended jaw and sharp teeth, it sounds like you might be referring to a species of barracuda. Barracudas are known for their elongated bodies, sharp teeth, and predatory nature. They are typically found in warmer waters and are recognized for their speed and agility while hunting. Another possibility could be the needlefish, which also has a long, slender body and sharp teeth, but they are generally less robust than barracudas. If you have more specific details or a picture, I could help narrow it down further!', 'is_endangered': False, 'tag_needed': False}\n"
     ]
    }
   ],
   "source": [
    "from langgraph.graph import StateGraph, END\n",
    "from langchain.chat_models import ChatOpenAI\n",
    "from langchain.schema import SystemMessage, HumanMessage\n",
    "from typing import TypedDict, Literal\n",
    "\n",
    "# 1️⃣ Define the state — this will hold the fish data and intermediate results\n",
    "\n",
    "class FishState(TypedDict):\n",
    "    description: str\n",
    "    classification: str\n",
    "    is_endangered: bool\n",
    "    tag_needed: bool\n",
    "\n",
    "# 2️⃣ Set up the model\n",
    "llm = ChatOpenAI(model=\"gpt-4o-mini\", temperature=0)\n",
    "\n",
    "# 3️⃣ Nodes (steps in the graph)\n",
    "\n",
    "# ➤ Classify the fish\n",
    "def classify_fish(state: FishState) -> FishState:\n",
    "    response = llm([\n",
    "        SystemMessage(content=\"You are a marine biologist.\"),\n",
    "        HumanMessage(content=f\"What kind of fish is this: {state['description']}?\")\n",
    "        ])\n",
    "    return {**state, \"classification\": response.content.strip()}\n",
    "\n",
    "# ➤ Check if the fish is endangered\n",
    "def check_endangered(state: FishState) -> FishState:\n",
    "    response = llm([\n",
    "        SystemMessage(content=\"You are a marine conservation expert.\"),\n",
    "        HumanMessage(content=f\"Is the {state['classification']} endangered? Answer true or false.\")\n",
    "    ])\n",
    "    is_endangered = response.content.strip().lower() == \"true\"\n",
    "    return {**state, \"is_endangered\": is_endangered}\n",
    "\n",
    "# ➤ Decide whether to tag\n",
    "def decide_tagging(state: FishState) -> FishState:\n",
    "    if state['is_endangered']:\n",
    "        tag_needed = True\n",
    "    else:\n",
    "        response = llm([\n",
    "            SystemMessage(content=\"You are a fish tagging specialist.\"),\n",
    "            HumanMessage(content=f\"Should we tag the {state['classification']}? Answer true or false.\")\n",
    "        ])\n",
    "        tag_needed = response.content.strip().lower() == \"true\"\n",
    "    return {**state, \"tag_needed\": tag_needed}\n",
    "\n",
    "# 4️⃣ Build the graph\n",
    "\n",
    "builder = StateGraph(FishState)\n",
    "\n",
    "builder.add_node(\"classify_fish\", classify_fish)\n",
    "builder.add_node(\"check_endangered\", check_endangered)\n",
    "builder.add_node(\"decide_tagging\", decide_tagging)\n",
    "\n",
    "builder.set_entry_point(\"classify_fish\")\n",
    "builder.add_edge(\"classify_fish\", \"check_endangered\")\n",
    "builder.add_edge(\"check_endangered\", \"decide_tagging\")\n",
    "builder.add_edge(\"decide_tagging\", END)\n",
    "\n",
    "# 5️⃣ Create the graph\n",
    "\n",
    "graph = builder.compile()\n",
    "\n",
    "input_state = {\"description\": \"A long, silver fish with an extended jaw and sharp teeth.\"}\n",
    "final_result = graph.invoke(input_state)\n",
    "\n",
    "print(final_result)\n",
    "\n",
    "\n"
   ]
  }
 ],
 "metadata": {
  "kernelspec": {
   "display_name": "langgraph-intro",
   "language": "python",
   "name": "python3"
  },
  "language_info": {
   "codemirror_mode": {
    "name": "ipython",
    "version": 3
   },
   "file_extension": ".py",
   "mimetype": "text/x-python",
   "name": "python",
   "nbconvert_exporter": "python",
   "pygments_lexer": "ipython3",
   "version": "3.12.7"
  }
 },
 "nbformat": 4,
 "nbformat_minor": 5
}
