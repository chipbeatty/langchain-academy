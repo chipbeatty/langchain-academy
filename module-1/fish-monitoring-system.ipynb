{
 "cells": [
  {
   "cell_type": "code",
   "execution_count": 1,
   "id": "c06cf645",
   "metadata": {},
   "outputs": [],
   "source": [
    "from typing_extensions import TypedDict\n",
    "\n",
    "class FishData(TypedDict):\n",
    "    species: str\n",
    "    length_cm: float\n",
    "    log: str"
   ]
  },
  {
   "cell_type": "code",
   "execution_count": null,
   "id": "99724c83",
   "metadata": {},
   "outputs": [],
   "source": [
    "def record_observation(fish: FishData) -> FishData:\n",
    "    print(\"📍 Recording observation\")\n",
    "    fish[\"log\"] += f\"Observed a {fish['species']} measuring {fish['length_cm']} cm.\\n\"\n",
    "    return fish\n",
    "\n",
    "def small_fish_logger(fish: FishData) -> FishData:\n",
    "    print(\"🐟 Logging small fish\")\n",
    "    fish[\"log\"] += \"Classified as SMALL fish.\\n\"\n",
    "    return fish\n",
    "\n",
    "def large_fish_logger(fish: FishData) -> FishData:\n",
    "    print(\"🦈 Logging large fish\")\n",
    "    fish[\"log\"] += \"Classified as LARGE fish.\\n\"\n",
    "    return fish"
   ]
  },
  {
   "cell_type": "code",
   "execution_count": null,
   "id": "171bbebe",
   "metadata": {},
   "outputs": [],
   "source": [
    "from typing import Literal\n",
    "\n",
    "def route_by_fish_size(fish: FishData) -> Literal[\"small_fish\", \"large_fish\"]:\n",
    "    if fish[\"length_cm\"] < 50:\n",
    "        return \"small_fish\"\n",
    "    return \"large_fish\""
   ]
  },
  {
   "cell_type": "code",
   "execution_count": null,
   "id": "04b62e12",
   "metadata": {},
   "outputs": [],
   "source": [
    "from langgraph.graph import StateGraph, START, END\n",
    "\n",
    "builder = StateGraph(FishData)\n",
    "\n",
    "builder.add_node(\"record_observation\", record_observation)\n",
    "builder.add_node(\"small_fish\", small_fish_logger)\n",
    "builder.add_node(\"large_fish\", large_fish_logger)\n",
    "\n",
    "builder.add_edge(START, \"record_observation\")\n",
    "builder.add_conditional_edges(\"record_observation\", route_by_fish_size)\n",
    "builder.add_edge(\"small_fish\", END)\n",
    "builder.add_edge(\"large_fish\", END)\n",
    "\n",
    "fish_graph = builder.compile()"
   ]
  },
  {
   "cell_type": "code",
   "execution_count": 6,
   "id": "f208e508",
   "metadata": {},
   "outputs": [
    {
     "name": "stdout",
     "output_type": "stream",
     "text": [
      "📍 Observation started\n",
      "🦈 Logging large fish\n",
      "\n",
      "📋 Final Log:\n",
      " Observed a Bluefin Tuna measuring 72.5 cm.\n",
      "Classified as LARGE fish.\n",
      "\n"
     ]
    }
   ],
   "source": [
    "initial_fish: FishData = {\n",
    "    \"species\": \"Bluefin Tuna\",\n",
    "    \"length_cm\": 72.5,\n",
    "    \"log\": \"\"\n",
    "}\n",
    "\n",
    "result = fish_graph.invoke(initial_fish)\n",
    "print(\"\\n📋 Final Log:\\n\", result[\"log\"])"
   ]
  }
 ],
 "metadata": {
  "kernelspec": {
   "display_name": "langgraph-intro",
   "language": "python",
   "name": "python3"
  },
  "language_info": {
   "codemirror_mode": {
    "name": "ipython",
    "version": 3
   },
   "file_extension": ".py",
   "mimetype": "text/x-python",
   "name": "python",
   "nbconvert_exporter": "python",
   "pygments_lexer": "ipython3",
   "version": "3.12.7"
  }
 },
 "nbformat": 4,
 "nbformat_minor": 5
}
