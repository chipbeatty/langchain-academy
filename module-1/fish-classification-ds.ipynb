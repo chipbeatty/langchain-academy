{
 "cells": [
  {
   "cell_type": "code",
   "execution_count": null,
   "id": "8c88a20e",
   "metadata": {},
   "outputs": [],
   "source": [
    "from langgraph.graph import StateGraph, END  # Updated imports\n",
    "from langchain_core.messages import HumanMessage\n",
    "from langchain_openai import ChatOpenAI\n"
   ]
  },
  {
   "cell_type": "code",
   "execution_count": 3,
   "id": "68ce9319",
   "metadata": {},
   "outputs": [],
   "source": [
    "import os, getpass\n",
    "\n",
    "def _set_env(var: str):\n",
    "    if not os.environ.get(var):\n",
    "        os.environ[var] = getpass.getpass(f\"{var}: \")\n",
    "\n",
    "_set_env(\"OPENAI_API_KEY\")"
   ]
  },
  {
   "cell_type": "code",
   "execution_count": 4,
   "id": "6d81947d",
   "metadata": {},
   "outputs": [],
   "source": [
    "# Initialize the LLM\n",
    "llm = ChatOpenAI(model=\"gpt-3.5-turbo\")  # Using 3.5 for cost efficiency"
   ]
  },
  {
   "cell_type": "code",
   "execution_count": null,
   "id": "487e72ee",
   "metadata": {},
   "outputs": [],
   "source": [
    "# Define our state type\n",
    "from typing import TypedDict, Annotated, Literal\n",
    "from typing_extensions import TypedDict\n",
    "\n",
    "class AgentState(TypedDict):\n",
    "    input: str\n",
    "    classification: str\n",
    "    response: str\n",
    "    error: str\n",
    "    logs: list[str]"
   ]
  },
  {
   "cell_type": "code",
   "execution_count": 9,
   "id": "9c5754cc",
   "metadata": {},
   "outputs": [
    {
     "name": "stdout",
     "output_type": "stream",
     "text": [
      "The Betta fish, also known as Siamese fighting fish, is a colorful freshwater fish with long flowing fins that is commonly found in home aquariums.\n",
      "1. Betta fish are territorial and should be kept alone in a tank unless in a very large, heavily planted community tank.\n",
      "2. They have a labyrinth organ that allows them to breathe air from the water's surface, making them able to survive in oxygen-poor environments.\n",
      "3. Male Betta fish are known for their aggression towards other males, often engaging in intense fights to establish dominance.\n"
     ]
    }
   ],
   "source": [
    "from langgraph.graph import StateGraph, END  # Updated imports\n",
    "from langchain_core.messages import HumanMessage\n",
    "from langchain_openai import ChatOpenAI\n",
    "\n",
    "# Initialize the LLM\n",
    "llm = ChatOpenAI(model=\"gpt-3.5-turbo\")  # Using 3.5 for cost efficiency\n",
    "\n",
    "# Define our state type\n",
    "from typing import TypedDict, Annotated\n",
    "from typing_extensions import TypedDict\n",
    "\n",
    "class AgentState(TypedDict):\n",
    "    input: str\n",
    "    classification: str\n",
    "    response: str\n",
    "\n",
    "# Add validation logic\n",
    "\n",
    "def validate_classification(state: AgentState):\n",
    "    classification = state[\"classification\"]\n",
    "    valid = classification in (\"freshwater\", \"saltwater\")\n",
    "    \n",
    "    if not valid:\n",
    "        return{\"error\": f\"Invalid classification: {classification}\"}\n",
    "    return {\"error\": \"\"} # No error\"]\n",
    "\n",
    "# Define our nodes\n",
    "def input_node(state: AgentState):\n",
    "    return {\"input\": state[\"input\"]}\n",
    "\n",
    "def classification_node(state: AgentState):\n",
    "    description = state[\"input\"]\n",
    "    response = llm.invoke([\n",
    "        HumanMessage(content=f\"\"\"Classify this fish based on description. \n",
    "                     Only answer 'freshwater' or 'saltwater': {description}\"\"\")\n",
    "    ])\n",
    "    return {\"classification\": response.content.lower().strip()}\n",
    "\n",
    "def response_node(state: AgentState):\n",
    "    classification = state[\"classification\"]\n",
    "    description = state[\"input\"]\n",
    "    \n",
    "    if \"freshwater\" in classification:\n",
    "        prompt = f\"Describe this freshwater fish in 1 sentence and give 3 key facts: {description}\"\n",
    "    else:\n",
    "        prompt = f\"Describe this saltwater fish in 1 sentence and give 3 key facts: {description}\"\n",
    "    \n",
    "    response = llm.invoke([HumanMessage(content=prompt)])\n",
    "    return {\"response\": response.content}\n",
    "\n",
    "def error_node(state: AgentState):\n",
    "    response = llm.invoke([\n",
    "        HumanMessage(content=f\"\"\"\n",
    "            Correct this fish classification (answer ONLY 'freshwater' or 'saltwater'):\n",
    "            Description: {state['input']}\n",
    "            Invalid classification: {state['classification']}\n",
    "            Error: {state['error']}\n",
    "        \"\"\")\n",
    "    ])\n",
    "    return {\"classification\": response.content.lower().strip()}\n",
    "\n",
    "# Build the graph\n",
    "workflow = StateGraph(AgentState)  # Using StateGraph instead of Graph\n",
    "\n",
    "# Add nodes\n",
    "workflow.add_node(\"input\", input_node)\n",
    "workflow.add_node(\"classify\", classification_node)\n",
    "workflow.add_node(\"validate, validate_classification)  # Validation node\")\n",
    "workflow.add_node(\"error\", error_node)\n",
    "workflow.add_node(\"respond\", response_node)\n",
    "\n",
    "# Set up edges\n",
    "workflow.set_entry_point(\"input\")\n",
    "workflow.add_edge(\"input\", \"classify\")\n",
    "workflow.add_edge(\"classify\", \"validate\")  # Classify → Validate\n",
    "\n",
    "# Conditional edge: Valid or not?\n",
    "workflow.add_conditional_edges(\n",
    "    \"classify\",\n",
    "    lambda x: \"respond\",  # Our simple condition\n",
    "    )\n",
    "workflow.add_edge(\"error\", \"classify\")  # After fixing, re-classify\n",
    "workflow.add_edge(\"respond\", END)\n",
    "\n",
    "# Compile\n",
    "app = workflow.compile()\n",
    "\n",
    "# Run it!\n",
    "result = app.invoke({\"input\": \"A colorful fish with long flowing fins found in home aquariums\"})\n",
    "print(result[\"response\"])"
   ]
  }
 ],
 "metadata": {
  "kernelspec": {
   "display_name": "langgraph-intro",
   "language": "python",
   "name": "python3"
  },
  "language_info": {
   "codemirror_mode": {
    "name": "ipython",
    "version": 3
   },
   "file_extension": ".py",
   "mimetype": "text/x-python",
   "name": "python",
   "nbconvert_exporter": "python",
   "pygments_lexer": "ipython3",
   "version": "3.12.7"
  }
 },
 "nbformat": 4,
 "nbformat_minor": 5
}
