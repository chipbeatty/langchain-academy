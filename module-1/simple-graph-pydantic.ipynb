{
 "cells": [
  {
   "cell_type": "code",
   "execution_count": 1,
   "id": "a4d40e10",
   "metadata": {},
   "outputs": [],
   "source": [
    "from pydantic import BaseModel\n",
    "\n",
    "class State(BaseModel):\n",
    "    graph_state: str"
   ]
  },
  {
   "cell_type": "code",
   "execution_count": 2,
   "id": "9433610c",
   "metadata": {},
   "outputs": [],
   "source": [
    "def node_1(state: State) -> State:\n",
    "    print(\"---Node 1---\")\n",
    "    return State(graph_state=state.graph_state + \" I am\")\n",
    "\n",
    "def node_2(state: State) -> State:\n",
    "    print(\"---Node 2---\")\n",
    "    return State(graph_state=state.graph_state + \" happy!\")\n",
    "\n",
    "def node_3(state: State) -> State:\n",
    "    print(\"---Node 3---\")\n",
    "    return State(graph_state=state.graph_state + \" sad!\")"
   ]
  },
  {
   "cell_type": "code",
   "execution_count": 3,
   "id": "0e9c7332",
   "metadata": {},
   "outputs": [],
   "source": [
    "from typing import Literal\n",
    "import random\n",
    "\n",
    "def decide_mood(state: State) -> Literal[\"node_2\", \"node_3\"]:\n",
    "    if random.random() < 0.5:\n",
    "        return \"node_2\"\n",
    "    return \"node_3\""
   ]
  },
  {
   "cell_type": "code",
   "execution_count": 4,
   "id": "ba011ddf",
   "metadata": {},
   "outputs": [],
   "source": [
    "from langgraph.graph import StateGraph, START, END\n",
    "\n",
    "builder = StateGraph(State)\n",
    "\n",
    "builder.add_node(\"node_1\", node_1)\n",
    "builder.add_node(\"node_2\", node_2)\n",
    "builder.add_node(\"node_3\", node_3)\n",
    "\n",
    "builder.add_edge(START, \"node_1\")\n",
    "builder.add_conditional_edges(\"node_1\", decide_mood)\n",
    "builder.add_edge(\"node_2\", END)\n",
    "builder.add_edge(\"node_3\", END)\n",
    "\n",
    "graph = builder.compile()\n"
   ]
  },
  {
   "cell_type": "code",
   "execution_count": 6,
   "id": "809af274",
   "metadata": {},
   "outputs": [
    {
     "name": "stdout",
     "output_type": "stream",
     "text": [
      "---Node 1---\n",
      "---Node 3---\n",
      " I am sad!\n"
     ]
    }
   ],
   "source": [
    "initial_state = State(graph_state=\"\")\n",
    "\n",
    "result = graph.invoke(initial_state)\n",
    "\n",
    "final_state = State(**result)  # Convert dict back to State object\n",
    "print(final_state.graph_state)\n"
   ]
  }
 ],
 "metadata": {
  "kernelspec": {
   "display_name": "langgraph-intro",
   "language": "python",
   "name": "python3"
  },
  "language_info": {
   "codemirror_mode": {
    "name": "ipython",
    "version": 3
   },
   "file_extension": ".py",
   "mimetype": "text/x-python",
   "name": "python",
   "nbconvert_exporter": "python",
   "pygments_lexer": "ipython3",
   "version": "3.12.7"
  }
 },
 "nbformat": 4,
 "nbformat_minor": 5
}
