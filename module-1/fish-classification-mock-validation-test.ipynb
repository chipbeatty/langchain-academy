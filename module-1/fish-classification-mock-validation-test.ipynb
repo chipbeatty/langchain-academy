{
 "cells": [
  {
   "cell_type": "code",
   "execution_count": null,
   "id": "6bc0cd4f",
   "metadata": {},
   "outputs": [],
   "source": [
    "# Force an invalid classification (GPT sometimes returns weird stuff)\n",
    "def mock_classification_node(state: AgentState):\n",
    "    return {\"classification\": \"banana\"}  # Invalid!\n",
    "\n",
    "workflow.add_node(\"classify\", mock_classification_node)  # Override for testing\n",
    "app = workflow.compile()\n",
    "\n",
    "result = app.invoke({\"input\": \"A fish with stripes found in coral reefs\"})\n",
    "print(result[\"response\"])"
   ]
  }
 ],
 "metadata": {
  "language_info": {
   "name": "python"
  }
 },
 "nbformat": 4,
 "nbformat_minor": 5
}
